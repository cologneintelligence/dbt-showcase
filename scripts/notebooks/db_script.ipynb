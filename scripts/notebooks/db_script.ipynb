{
 "cells": [
  {
   "cell_type": "code",
   "execution_count": null,
   "id": "2d9678b9",
   "metadata": {},
   "outputs": [],
   "source": [
    "import psycopg2\n",
    "import pandas as pd\n",
    "import datetime as dt\n",
    "from io import StringIO"
   ]
  },
  {
   "cell_type": "code",
   "execution_count": null,
   "id": "93c0c675",
   "metadata": {},
   "outputs": [],
   "source": [
    "host=\"127.0.0.1\"\n",
    "user=\"postgres\"\n",
    "pw=\"postgres\"\n",
    "system_db=\"postgres\"\n",
    "jaffle_db=\"jaffle_shop\""
   ]
  },
  {
   "cell_type": "code",
   "execution_count": null,
   "id": "225d9ddc",
   "metadata": {},
   "outputs": [],
   "source": [
    "def reset_db():\n",
    "    conn = psycopg2.connect(f\"dbname={system_db} user={user} password={pw} host={host}\")\n",
    "    conn.autocommit = True\n",
    "    cur = conn.cursor()\n",
    "    cur.execute(\"DROP DATABASE IF EXISTS jaffle_shop;\")\n",
    "    cur.execute(\"CREATE DATABASE jaffle_shop;\")\n",
    "    cur.close()\n",
    "    conn.close()\n",
    "    conn = psycopg2.connect(f\"dbname={jaffle_db} user={user} password={pw} host={host}\")\n",
    "    conn.autocommit = True\n",
    "    cur = conn.cursor()\n",
    "    cur.execute(\"CREATE SCHEMA IF NOT EXISTS raw;\")\n",
    "    cur.close()\n",
    "    conn.close()"
   ]
  },
  {
   "cell_type": "code",
   "execution_count": null,
   "id": "5b711813",
   "metadata": {},
   "outputs": [],
   "source": [
    "def create_tables():\n",
    "    conn = psycopg2.connect(f\"dbname={jaffle_db} user={user} password={pw} host={host}\")\n",
    "    conn.autocommit = True\n",
    "    cur = conn.cursor()\n",
    "    cur.execute(\"\"\"Drop Table IF EXISTS raw.raw_customers\"\"\")\n",
    "    cur.execute(\"\"\"CREATE TABLE IF NOT EXISTS raw.raw_customers(\n",
    "            id INT PRIMARY KEY,\n",
    "            first_name VARCHAR,\n",
    "            last_name VARCHAR,\n",
    "            _etl_loaded_at TIMESTAMP\n",
    "        );\"\"\")\n",
    "    cur.execute(\"\"\"Drop Table IF EXISTS raw.raw_orders\"\"\")\n",
    "    cur.execute(\"\"\"CREATE TABLE IF NOT EXISTS raw.raw_orders(\n",
    "            id INT PRIMARY KEY,\n",
    "            user_id INT,\n",
    "            order_date DATE,\n",
    "            status VARCHAR,\n",
    "            _etl_loaded_at TIMESTAMP\n",
    "        );\"\"\")\n",
    "    cur.execute(\"\"\"Drop Table IF EXISTS raw.raw_payments\"\"\")\n",
    "    cur.execute(\"\"\"CREATE TABLE IF NOT EXISTS raw.raw_payments(\n",
    "            id INT PRIMARY KEY,\n",
    "            order_id INT,\n",
    "            payment_method VARCHAR,\n",
    "            status VARCHAR,\n",
    "            amount INT,\n",
    "            created DATE,\n",
    "            _etl_loaded_at TIMESTAMP\n",
    "        );\"\"\")\n",
    "    cur.execute(\"\"\"Drop Table IF EXISTS raw.raw_customer_addresses\"\"\")\n",
    "    cur.execute(\"\"\"CREATE TABLE IF NOT EXISTS raw.raw_customer_addresses(\n",
    "            id INT PRIMARY KEY,\n",
    "            user_id INT,\n",
    "            city VARCHAR,\n",
    "            updated_at DATE,\n",
    "            _etl_loaded_at TIMESTAMP\n",
    "        );\"\"\")\n",
    "    cur.execute(\"\"\"Drop Table IF EXISTS raw.raw_analytics\"\"\")\n",
    "    cur.execute(\"\"\"CREATE TABLE IF NOT EXISTS raw.raw_analytics(\n",
    "            id INT PRIMARY KEY,\n",
    "            customer_id INT,\n",
    "            event VARCHAR,\n",
    "            timestamp TIMESTAMP,\n",
    "            _etl_loaded_at TIMESTAMP\n",
    "        );\"\"\")\n",
    "    cur.close()\n",
    "    conn.close()"
   ]
  },
  {
   "cell_type": "code",
   "execution_count": null,
   "id": "9c8dc084",
   "metadata": {},
   "outputs": [],
   "source": [
    "def copy_from_stringio(conn, df, table):\n",
    "    \"\"\"\n",
    "    Here we are going save the dataframe in memory \n",
    "    and use copy_from() to copy it to the table\n",
    "    \"\"\"\n",
    "    # save dataframe to an in memory buffer\n",
    "    buffer = StringIO()\n",
    "    df.to_csv(buffer, index=False, header=True)\n",
    "    buffer.seek(0)\n",
    "    \n",
    "    cursor = conn.cursor()\n",
    "    try:\n",
    "        cursor.copy_expert(f\"COPY {table} FROM STDIN WITH CSV HEADER DELIMITER as ','\", buffer)\n",
    "        conn.commit()\n",
    "    except (Exception, psycopg2.DatabaseError) as error:\n",
    "        print(\"Error: %s\" % error)\n",
    "        conn.rollback()\n",
    "        cursor.close()\n",
    "        return 1\n",
    "    print(f\"Uploading {table} done\")\n",
    "    cursor.close()"
   ]
  },
  {
   "cell_type": "code",
   "execution_count": null,
   "id": "4a474393",
   "metadata": {},
   "outputs": [],
   "source": [
    "def upload_data():\n",
    "    conn = psycopg2.connect(f\"dbname={jaffle_db} user={user} password={pw} host={host}\")\n",
    "    payments = pd.read_csv(\"jaffle_shop/seeds/raw_payments.csv\")\n",
    "    payments[\"_etl_loaded_at\"]=dt.datetime.now()\n",
    "    copy_from_stringio(conn,payments,\"raw.raw_payments\")\n",
    "    \n",
    "    orders = pd.read_csv(\"jaffle_shop/seeds/raw_orders.csv\")\n",
    "    orders[\"_etl_loaded_at\"]=dt.datetime.now()\n",
    "    copy_from_stringio(conn,orders,\"raw.raw_orders\")\n",
    "    \n",
    "    customers = pd.read_csv(\"jaffle_shop/seeds/raw_customers.csv\")\n",
    "    customers[\"_etl_loaded_at\"]=dt.datetime.now()\n",
    "    copy_from_stringio(conn,customers,\"raw.raw_customers\")\n",
    "\n",
    "    customer_addresses = pd.read_csv(\"jaffle_shop/seeds/raw_customer_addresses.csv\")\n",
    "    customer_addresses[\"_etl_loaded_at\"]=dt.datetime.now()\n",
    "    copy_from_stringio(conn,customer_addresses,\"raw.raw_customer_addresses\")\n",
    "\n",
    "    analytics = pd.read_csv(\"jaffle_shop/seeds/raw_analytics.csv\")\n",
    "    analytics[\"_etl_loaded_at\"]=dt.datetime.now()\n",
    "    copy_from_stringio(conn,analytics,\"raw.raw_analytics\")\n",
    "    conn.close()"
   ]
  },
  {
   "cell_type": "code",
   "execution_count": null,
   "id": "1910ca3d",
   "metadata": {},
   "outputs": [],
   "source": [
    "def full_reset():\n",
    "    print(\"Resetting DB...\")\n",
    "    reset_db()\n",
    "    print(\"Recreating Tables...\")\n",
    "    create_tables()\n",
    "    print(\"Uploading Data...\")\n",
    "    upload_data()"
   ]
  },
  {
   "cell_type": "code",
   "execution_count": null,
   "id": "b9647c8e",
   "metadata": {},
   "outputs": [],
   "source": [
    "full_reset()"
   ]
  }
 ],
 "metadata": {
  "kernelspec": {
   "display_name": "Python 3 (ipykernel)",
   "language": "python",
   "name": "python3"
  },
  "language_info": {
   "codemirror_mode": {
    "name": "ipython",
    "version": 3
   },
   "file_extension": ".py",
   "mimetype": "text/x-python",
   "name": "python",
   "nbconvert_exporter": "python",
   "pygments_lexer": "ipython3",
   "version": "3.11.1"
  },
  "vscode": {
   "interpreter": {
    "hash": "044ae1ac33ad63e67a74b8d147e0416ea2444ccf60595e535471e7b835f063a3"
   }
  }
 },
 "nbformat": 4,
 "nbformat_minor": 5
}

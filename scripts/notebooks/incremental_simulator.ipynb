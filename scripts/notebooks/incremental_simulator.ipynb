{
 "cells": [
  {
   "cell_type": "code",
   "execution_count": null,
   "id": "2d9678b9",
   "metadata": {},
   "outputs": [],
   "source": [
    "import psycopg2"
   ]
  },
  {
   "cell_type": "code",
   "execution_count": null,
   "id": "93c0c675",
   "metadata": {},
   "outputs": [],
   "source": [
    "host=\"127.0.0.1\"\n",
    "user=\"postgres\"\n",
    "pw=\"postgres\"\n",
    "system_db=\"postgres\"\n",
    "jaffle_db=\"jaffle_shop\""
   ]
  },
  {
   "cell_type": "code",
   "execution_count": null,
   "id": "4a474393",
   "metadata": {},
   "outputs": [],
   "source": [
    "def upload_data():\n",
    "    conn = psycopg2.connect(f\"dbname={jaffle_db} user={user} password={pw} host={host}\")\n",
    "    conn.autocommit = True\n",
    "    cur = conn.cursor()\n",
    "\n",
    "    cur.execute(\"DELETE FROM raw.raw_analytics WHERE id = 6\")\n",
    "    cur.execute(\"INSERT INTO raw.raw_analytics (id, customer_id, event, timestamp) VALUES (6, 1, 'VISIT_HOMEPAGE', '2023-01-02 15:00:00')\")\n",
    "\n",
    "    print(\"Uploading analytics data done\")\n",
    "\n",
    "    cur.close()\n",
    "    conn.close()"
   ]
  },
  {
   "cell_type": "code",
   "execution_count": null,
   "id": "b9647c8e",
   "metadata": {},
   "outputs": [],
   "source": [
    "upload_data()"
   ]
  }
 ],
 "metadata": {
  "kernelspec": {
   "display_name": "Python 3 (ipykernel)",
   "language": "python",
   "name": "python3"
  },
  "language_info": {
   "codemirror_mode": {
    "name": "ipython",
    "version": 3
   },
   "file_extension": ".py",
   "mimetype": "text/x-python",
   "name": "python",
   "nbconvert_exporter": "python",
   "pygments_lexer": "ipython3",
   "version": "3.10.6"
  },
  "vscode": {
   "interpreter": {
    "hash": "044ae1ac33ad63e67a74b8d147e0416ea2444ccf60595e535471e7b835f063a3"
   }
  }
 },
 "nbformat": 4,
 "nbformat_minor": 5
}
